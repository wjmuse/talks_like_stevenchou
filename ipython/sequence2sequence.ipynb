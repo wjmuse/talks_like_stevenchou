{
 "cells": [
  {
   "cell_type": "code",
   "execution_count": 2,
   "metadata": {
    "collapsed": false
   },
   "outputs": [
    {
     "name": "stderr",
     "output_type": "stream",
     "text": [
      "Using TensorFlow backend.\n"
     ]
    }
   ],
   "source": [
    "import re\n",
    "import itertools\n",
    "import shutil\n",
    "from textblob import TextBlob\n",
    "from textblob import WordList\n",
    "import time\n",
    "from nltk.corpus import wordnet as wn\n",
    "import nltk\n",
    "import random\n",
    "from keras.preprocessing import sequence\n",
    "from keras.datasets import imdb\n",
    "import sys\n",
    "import string"
   ]
  },
  {
   "cell_type": "code",
   "execution_count": 3,
   "metadata": {
    "collapsed": true
   },
   "outputs": [],
   "source": [
    "vocabulary_size = 50000\n",
    "unknown_token = \"UNKNOWN_TOKEN\"\n",
    "sentence_start_token = \"SENTENCE_START\"\n",
    "sentence_end_token = \"SENTENCE_END\"\n",
    "number_of_iterations = 20 #max number of iterations/epochs you want to run for. \n",
    "start_validating_at_iteration = 0 #which iteration to start checking for overfitting\n",
    "patience = 10 #number of times where validation loss has to rise before quitting algorithm\n",
    "hidden_variables = 256 #number of hidden variables in all layers, keep this betwen 256 and 512\n",
    "dropout = 0.5 #the dropout between each layer -- recommendation is 0.5\n",
    "embedding_size = 128 #this should be 128 or 256 or 512\n",
    "hidden_size = 128\n",
    "batch_size = 1024\n",
    "decoder_layers = 3 #number of lstm layers for decoding -- try 4, maybe eventually up to 8. \n",
    "time_steps = 20 #number to pad the vector by. Should be the max number of words in a sentence.\n"
   ]
  },
  {
   "cell_type": "code",
   "execution_count": null,
   "metadata": {
    "collapsed": true
   },
   "outputs": [],
   "source": []
  }
 ],
 "metadata": {
  "kernelspec": {
   "display_name": "Python 2",
   "language": "python",
   "name": "python2"
  },
  "language_info": {
   "codemirror_mode": {
    "name": "ipython",
    "version": 2
   },
   "file_extension": ".py",
   "mimetype": "text/x-python",
   "name": "python",
   "nbconvert_exporter": "python",
   "pygments_lexer": "ipython2",
   "version": "2.7.11"
  }
 },
 "nbformat": 4,
 "nbformat_minor": 0
}
